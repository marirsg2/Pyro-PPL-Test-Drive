{
 "cells": [
  {
   "cell_type": "code",
   "execution_count": 4,
   "metadata": {},
   "outputs": [
    {
     "data": {
      "text/plain": [
       "<torch._C.Generator at 0x7fcf511f4e10>"
      ]
     },
     "execution_count": 4,
     "metadata": {},
     "output_type": "execute_result"
    }
   ],
   "source": [
    "%matplotlib inline\n",
    "# import some dependencies\n",
    "import numpy as np\n",
    "import matplotlib.pyplot as plt\n",
    "try:\n",
    "    import seaborn as sns\n",
    "    sns.set()\n",
    "except ImportError:\n",
    "    pass\n",
    "\n",
    "import torch\n",
    "from torch.autograd import Variable\n",
    "\n",
    "import pyro\n",
    "import pyro.infer\n",
    "import pyro.optim\n",
    "import pyro.distributions as dist\n",
    "\n",
    "torch.manual_seed(101)"
   ]
  },
  {
   "cell_type": "code",
   "execution_count": 6,
   "metadata": {},
   "outputs": [],
   "source": [
    "def scale(guess):\n",
    "    # The prior over weight encodes our uncertainty about our guess\n",
    "    weight = pyro.sample(\"weight\", dist.normal, guess, Variable(torch.ones(1)))\n",
    "    # This encodes our belief about the noisiness of the scale:\n",
    "    # the measurement fluctuates around the true weight\n",
    "    return pyro.sample(\"measurement\", dist.normal, weight, Variable(torch.Tensor([0.75])))\n",
    "\n",
    "conditioned_scale = pyro.condition(\n",
    "    scale, data={\"measurement\": Variable(torch.Tensor([8.5]))})\n",
    "\n",
    "def deferred_conditioned_scale(measurement, *args, **kwargs):\n",
    "    return pyro.condition(scale, data={\"measurement\": measurement})(*args, **kwargs)\n"
   ]
  },
  {
   "cell_type": "code",
   "execution_count": 8,
   "metadata": {
    "collapsed": true
   },
   "outputs": [],
   "source": [
    "def scale_parametrized_guide(guess):\n",
    "    a = pyro.param(\"a\", Variable(torch.randn(1) + guess.data.clone(), requires_grad=True))\n",
    "    b = pyro.param(\"b\", Variable(torch.randn(1), requires_grad=True))\n",
    "    return pyro.sample(\"weight\", dist.normal, a, torch.abs(b))\n",
    "# IMPORTANT: The parameters are the ones that will get updated by optimization\n",
    "# (eg: by SGD). When setting requires_grad = True, it signals that (unsure?)"
   ]
  },
  {
   "cell_type": "code",
   "execution_count": 10,
   "metadata": {
    "collapsed": true
   },
   "outputs": [],
   "source": [
    "\n",
    "guess = Variable(torch.Tensor([8.5]))\n",
    "measurement = Variable(torch.Tensor([9.5]))\n",
    "\n",
    "conditioned_scale = pyro.condition(scale, data={\"measurement\": measurement})\n",
    "\n",
    "marginal = pyro.infer.Marginal(\n",
    "    pyro.infer.Importance(conditioned_scale, num_samples=100), sites=[\"weight\"])"
   ]
  },
  {
   "cell_type": "code",
   "execution_count": 12,
   "metadata": {},
   "outputs": [
    {
     "data": {
      "text/plain": [
       "Text(0,0.5,u'loss')"
      ]
     },
     "execution_count": 12,
     "metadata": {},
     "output_type": "execute_result"
    },
    {
     "data": {
      "image/png": "[encoded data removed]",
      "text/plain": [
       "<matplotlib.figure.Figure at 0x7fcefc7eed10>"
      ]
     },
     "metadata": {},
     "output_type": "display_data"
    }
   ],
   "source": [
    "pyro.clear_param_store()\n",
    "svi = pyro.infer.SVI(model = conditioned_scale,\n",
    "                    guide=scale_parametrized_guide,\n",
    "                    optim = pyro.optim.SGD({\"lr\":0.001}),\n",
    "                     loss = \"ELBO\")\n",
    "losses = []\n",
    "for t in range(1000):\n",
    "    losses.append(svi.step(guess))\n",
    "#note that the guess is piped to both the model and the guide\n",
    "\n",
    "plt.plot(losses)\n",
    "plt.title(\"ELBO\")\n",
    "plt.xlabel(\"step\")\n",
    "plt.ylabel(\"loss\")"
   ]
  },
  {
   "cell_type": "markdown",
   "metadata": {},
   "source": [
    "#### User can also define loss functions\n",
    "For the case where the loss is the ELBO, both methods also accept an optional argument num_particles, which denotes the number of samples used to compute the loss (in the case of evaluate_loss) and the loss and gradient (in the case of step). Note that SVI also provides support for user-defined losses; see the documentation for details."
   ]
  },
  {
   "cell_type": "markdown",
   "metadata": {},
   "source": [
    "# Optimizers"
   ]
  },
  {
   "cell_type": "markdown",
   "metadata": {},
   "source": [
    "In Pyro, the model and guide are allowed to be arbitrary stochastic functions provided that\n",
    "\n",
    "1) guide doesn’t contain any pyro.observe statements\n",
    "\n",
    "2) model and guide have the same call signature\n",
    "\n",
    "This presents some challenges because it means that different executions of model() and guide() may have quite different behavior, with e.g. certain latent random variables and parameters only appearing some of the time. Indeed parameters may be created dynamically during the course of inference. In other words the space we’re doing optimization over, which is parameterized by θ and ϕ, can grow dynamically.\n",
    "\n",
    "In order to support this behavior, Pyro needs to dynamically generate an optimizer for each parameter the first time it appears during learning. Luckily, PyTorch has a lightweight optimization library (see torch.optim) that can easily be repurposed for the dynamic case."
   ]
  },
  {
   "cell_type": "markdown",
   "metadata": {},
   "source": [
    "### There are two ways to specify how a new parameter would be optimized.\n",
    "\n",
    "The simplest and oft used is aliases defined in optim/__init__.py\n",
    "In simpler case optim_args is a fixed dictionary that specifies the arguments used to instantiate PyTorch optimizers for all the parameters"
   ]
  },
  {
   "cell_type": "code",
   "execution_count": 15,
   "metadata": {
    "collapsed": true
   },
   "outputs": [],
   "source": [
    "from pyro.optim import Adam\n",
    "#SEE http://ruder.io/optimizing-gradient-descent/index.html#rmsprop\n",
    "\n",
    "# Adam = Adaptive Moment Estimation is an update to the RMSProp \n",
    "# optimizer. In this optimization algorithm, running averages of \n",
    "# both the gradients (first moment/average) and the \n",
    "# second moments (variance) of the gradients are used\n",
    "\n",
    "adam_params = {\"lr\": 0.005, \"betas\": (0.95, 0.999)}\n",
    "optimizer = Adam(adam_params)\n"
   ]
  },
  {
   "cell_type": "code",
   "execution_count": 16,
   "metadata": {
    "collapsed": true
   },
   "outputs": [],
   "source": [
    "from pyro.optim import Adam\n",
    "\n",
    "def per_param_callable(module_name, param_name, tags):\n",
    "    #\"tags = a (possibly empty) iterable of parameter tags\" ?\n",
    "    if 'param_name' == 'my_special_parameter':\n",
    "        return {\"lr\": 0.010}\n",
    "    else:\n",
    "        return {\"lr\": 0.001}\n",
    "\n",
    "optimizer = Adam(per_param_callable)"
   ]
  },
  {
   "cell_type": "code",
   "execution_count": 17,
   "metadata": {
    "collapsed": true
   },
   "outputs": [],
   "source": [
    "import pyro.distributions as dist\n",
    "\n",
    "def model(data):\n",
    "    # define the hyperparameters that control the beta prior\n",
    "    alpha0 = Variable(torch.Tensor([10.0]))\n",
    "    beta0 = Variable(torch.Tensor([10.0]))\n",
    "    # sample f from the beta prior\n",
    "    f = pyro.sample(\"latent_fairness\", dist.beta, alpha0, beta0)\n",
    "    # loop over the observed data\n",
    "    for i in range(len(data)):\n",
    "        # observe datapoint i using the bernoulli\n",
    "        # likelihood Bernoulli(f)\n",
    "        pyro.observe(\"obs_{}\".format(i), dist.bernoulli,\n",
    "                     data[i], f)"
   ]
  },
  {
   "cell_type": "code",
   "execution_count": 19,
   "metadata": {
    "collapsed": true
   },
   "outputs": [],
   "source": [
    "def guide(data): #the guide has the same signature as the model\n",
    "    #'q' refers to the guide\n",
    "    #initialize the parameters of the variational inference guide\n",
    "    log_alpha_q_0 = Variable(torch.Tensor([np.log(15.0)]),\n",
    "                        requires_grad = True)\n",
    "    log_beta_q_0 = Variable(torch.Tensor([np.log(15.0)]),\n",
    "                           requires_grad = True)\n",
    "    #register the parameters with pyro, and make it a pyro param.\n",
    "    log_alpha_q = pyro.param(\"log_alpha_q\",log_alpha_q_0)\n",
    "    log_beta_q = pyro.param(\"log_beta_q\",log_beta_q_0)\n",
    "    alpha_q, beta_q = torch.exp(log_alpha_q), torch.exp(log_beta_q)\n",
    "    #now sample/output the latent_fairness from the distribution\n",
    "    #we are using a beta distribution here for the guide as well\n",
    "    #NOTE how the guide and model sample names MATCH UP\n",
    "    pyro.sample(\"latent_fairness\", dist.beta, alpha_q, beta_q)\n",
    "#---end function for guide\n",
    "\n",
    "\n",
    "    "
   ]
  },
  {
   "cell_type": "markdown",
   "metadata": {},
   "source": [
    "### the variational parameters are actually defined in log space. this is because we need alpha_q and beta_q to be non-negative in order to define a valid beta distribution. THATS why we define them in log space, and then take the EXP to make it positive numbers for the beta distr."
   ]
  },
  {
   "cell_type": "code",
   "execution_count": 21,
   "metadata": {},
   "outputs": [],
   "source": [
    "#made up data\n",
    "data = Variable(torch.Tensor([1,1,1,1,0,0,0,1,1,1]))\n",
    "\n",
    "adam_params = {\"lr\":0.0005, \"betas\" : (0.90,0.999)}\n",
    "optimizer = Adam(adam_params)\n",
    "#onto inference with SVI\n",
    "svi = SVI(model,guide, optimizer, loss = \"ELBO\")\n",
    "#IMPORTANT, You can also add a number of particles as in the full script \n",
    "# further below in this notebook\n",
    "\n",
    "\n",
    "n_steps = 5000\n",
    "#update with the gradient \n",
    "for step in range(n_steps):\n",
    "    svi.step(data)"
   ]
  },
  {
   "cell_type": "markdown",
   "metadata": {},
   "source": [
    "### FULL script from the tutorial in one shot"
   ]
  },
  {
   "cell_type": "code",
   "execution_count": 22,
   "metadata": {},
   "outputs": [
    {
     "name": "stdout",
     "output_type": "stream",
     "text": [
      "........................................\n",
      "based on the data and our prior belief, the fairness of the coin is 0.533 +- 0.090\n"
     ]
    }
   ],
   "source": [
    "from __future__ import print_function\n",
    "import numpy as np\n",
    "import torch\n",
    "from torch.autograd import Variable\n",
    "import pyro\n",
    "from pyro.optim import Adam\n",
    "from pyro.infer import SVI\n",
    "import pyro.distributions as dist\n",
    "\n",
    "# clear the param store in case we're in a REPL\n",
    "pyro.clear_param_store()\n",
    "\n",
    "# create some data with 6 observed heads and 4 observed tails\n",
    "data = []\n",
    "for _ in range(6):\n",
    "    data.append(Variable(torch.ones(1)))\n",
    "for _ in range(4):\n",
    "    data.append(Variable(torch.zeros(1)))\n",
    "\n",
    "def model(data):\n",
    "    # define the hyperparameters that control the beta prior\n",
    "    alpha0 = Variable(torch.Tensor([10.0]))\n",
    "    beta0 = Variable(torch.Tensor([10.0]))\n",
    "    # sample f from the beta prior\n",
    "    f = pyro.sample(\"latent_fairness\", dist.beta, alpha0, beta0)\n",
    "    # loop over the observed data\n",
    "    for i in range(len(data)):\n",
    "        # observe datapoint i using the bernoulli likelihood\n",
    "        pyro.observe(\"obs_{}\".format(i), dist.bernoulli, data[i], f)\n",
    "\n",
    "def guide(data):\n",
    "    # define the initial values of the two variational parameters\n",
    "    # we initialize the guide near the model prior (except a bit sharper)\n",
    "    log_alpha_q_0 = Variable(torch.Tensor([np.log(15.0)]), requires_grad=True)\n",
    "    log_beta_q_0 = Variable(torch.Tensor([np.log(15.0)]), requires_grad=True)\n",
    "    # register the two variational parameters with Pyro\n",
    "    log_alpha_q = pyro.param(\"log_alpha_q\", log_alpha_q_0)\n",
    "    log_beta_q = pyro.param(\"log_beta_q\", log_beta_q_0)\n",
    "    alpha_q, beta_q = torch.exp(log_alpha_q), torch.exp(log_beta_q)\n",
    "    # sample latent_fairness from Beta(alpha_q, beta_q)\n",
    "    pyro.sample(\"latent_fairness\", dist.beta, alpha_q, beta_q)\n",
    "\n",
    "# setup the optimizer\n",
    "adam_params = {\"lr\": 0.0005, \"betas\": (0.90, 0.999)}\n",
    "optimizer = Adam(adam_params)\n",
    "\n",
    "# setup the inference algorithm\n",
    "svi = SVI(model, guide, optimizer, loss=\"ELBO\", num_particles=7)\n",
    "\n",
    "n_steps = 4000\n",
    "# do gradient steps\n",
    "for step in range(n_steps):\n",
    "    svi.step(data)\n",
    "    if step % 100 == 0:\n",
    "        print('.', end='')\n",
    "\n",
    "# grab the learned variational parameters\n",
    "alpha_q = torch.exp(pyro.param(\"log_alpha_q\")).data.numpy()[0]\n",
    "beta_q = torch.exp(pyro.param(\"log_beta_q\")).data.numpy()[0]\n",
    "\n",
    "# here we use some facts about the beta distribution\n",
    "# compute the inferred mean of the coin's fairness\n",
    "inferred_mean = alpha_q / (alpha_q + beta_q)\n",
    "# compute inferred standard deviation\n",
    "factor = beta_q / (alpha_q * (1.0 + alpha_q + beta_q))\n",
    "inferred_std = inferred_mean * np.sqrt(factor)\n",
    "\n",
    "print(\"\\nbased on the data and our prior belief, the fairness \" +\n",
    "      \"of the coin is %.3f +- %.3f\" % (inferred_mean, inferred_std))"
   ]
  },
  {
   "cell_type": "markdown",
   "metadata": {},
   "source": [
    "### Note that we pass the argument num_particles=7 to SVI so that the ELBO gradient estimator uses seven samples to compute each estimate. We’ll describe another approach for dealing with noisy gradient estimates in "
   ]
  },
  {
   "cell_type": "markdown",
   "metadata": {},
   "source": [
    "### This estimate is to be compared to the exact posterior mean, which in this case is given by 16/30=0.53¯. we had alpha and beta as 10 before which is 20 virtual samples, and 10 data points, so totally 30 samples. 16 heads (10 virtual, 6 empirical) and hence the result. This ratio update is actually supported by the derivative approach with the beta distribution, and not just a handwaving intuition. \n",
    "Note that the final estimate of the fairness of the coin is in between the the fairness preferred by the prior (namely 0.500.50) and the fairness suggested by the raw empirical frequencies (6/10=0.606/10=0.60)."
   ]
  },
  {
   "cell_type": "markdown",
   "metadata": {},
   "source": [
    "# review the update of dirichlet distr hyperparams in PGM based on likelihood. Learning of parameters\n",
    "# after svi part 1, FINISH THE PAPER"
   ]
  },
  {
   "cell_type": "code",
   "execution_count": null,
   "metadata": {
    "collapsed": true
   },
   "outputs": [],
   "source": []
  }
 ],
 "metadata": {
  "kernelspec": {
   "display_name": "Python 2",
   "language": "python",
   "name": "python2"
  },
  "language_info": {
   "codemirror_mode": {
    "name": "ipython",
    "version": 2
   },
   "file_extension": ".py",
   "mimetype": "text/x-python",
   "name": "python",
   "nbconvert_exporter": "python",
   "pygments_lexer": "ipython2",
   "version": "2.7.14"
  }
 },
 "nbformat": 4,
 "nbformat_minor": 2
}
