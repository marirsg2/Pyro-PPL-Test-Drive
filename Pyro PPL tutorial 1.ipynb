{
 "cells": [
  {
   "cell_type": "code",
   "execution_count": 2,
   "metadata": {
    "collapsed": true
   },
   "outputs": [],
   "source": [
    "import torch\n",
    "from torch.autograd import Variable\n",
    "import math\n",
    "import pyro\n",
    "import pyro.distributions as dist"
   ]
  },
  {
   "cell_type": "code",
   "execution_count": 3,
   "metadata": {},
   "outputs": [
    {
     "name": "stdout",
     "output_type": "stream",
     "text": [
      "0.1.2\n"
     ]
    }
   ],
   "source": [
    "print pyro.__version__"
   ]
  },
  {
   "cell_type": "code",
   "execution_count": 4,
   "metadata": {},
   "outputs": [
    {
     "name": "stdout",
     "output_type": "stream",
     "text": [
      "Variable containing:\n",
      "-1.8659\n",
      "[torch.FloatTensor of size 1]\n",
      "\n"
     ]
    }
   ],
   "source": [
    "mu = Variable(torch.zeros(1))\n",
    "sigma = Variable(torch.ones(1))\n",
    "x = dist.normal(mu,sigma)\n",
    "print(x)"
   ]
  },
  {
   "cell_type": "code",
   "execution_count": 5,
   "metadata": {},
   "outputs": [
    {
     "name": "stdout",
     "output_type": "stream",
     "text": [
      "Variable containing:\n",
      "-2.6597\n",
      "[torch.FloatTensor of size 1]\n",
      "\n",
      "0.0699716507865\n"
     ]
    }
   ],
   "source": [
    "log_p_x = dist.normal.log_pdf(x,mu,sigma)\n",
    "print(log_p_x)\n",
    "print(math.exp(log_p_x.data[0]))"
   ]
  },
  {
   "cell_type": "code",
   "execution_count": 6,
   "metadata": {},
   "outputs": [
    {
     "name": "stdout",
     "output_type": "stream",
     "text": [
      "Variable containing:\n",
      " 2.2550\n",
      "[torch.FloatTensor of size 1]\n",
      "\n"
     ]
    }
   ],
   "source": [
    "x = pyro.sample(\"test_sampler\", dist.normal,mu,sigma)\n",
    "print(x)\n",
    "#can also define your own arbitrary stochastic function and do\n",
    "# x = pyro.sample(\"my_sample\", fn, arg1, arg2)"
   ]
  },
  {
   "cell_type": "code",
   "execution_count": 7,
   "metadata": {},
   "outputs": [],
   "source": [
    "def weather():\n",
    "    cloudy = pyro.sample('cloudy',dist.bernoulli,\n",
    "                        Variable(torch.Tensor([0.3])))\n",
    "    cloudy = 'cloudy' if cloudy.data[0] == 1.0 else 'sunny'\n",
    "    mean_temp = {'cloudy':[55.0] , 'sunny':[75.0]}[cloudy]\n",
    "    sigma_temp = {'cloudy':[10.0] , 'sunny':[15.0]}[cloudy]\n",
    "    temp = pyro.sample('temp', dist.normal, Variable(torch.Tensor(mean_temp)), Variable(torch.Tensor(sigma_temp)))\n",
    "    return cloudy,temp.data[0]"
   ]
  },
  {
   "cell_type": "code",
   "execution_count": 8,
   "metadata": {},
   "outputs": [
    {
     "name": "stdout",
     "output_type": "stream",
     "text": [
      "('sunny', 76.04932403564453)\n",
      "('sunny', 64.96636962890625)\n",
      "('sunny', 101.13807678222656)\n"
     ]
    }
   ],
   "source": [
    "for _ in range(3):\n",
    "    print (weather())"
   ]
  },
  {
   "cell_type": "markdown",
   "metadata": {},
   "source": [
    "# now lets build a larger model from the simpler model"
   ]
  },
  {
   "cell_type": "code",
   "execution_count": 12,
   "metadata": {
    "collapsed": true
   },
   "outputs": [],
   "source": [
    "def ice_cream_sales():\n",
    "    cloudy,temp = weather()\n",
    "    expected_sales = [200] if cloudy == 'sunny' and temp > 80.0 else [50]\n",
    "    ice_cream = pyro.sample('ice_cream', dist.normal, \n",
    "                            Variable(torch.Tensor(expected_sales)),Variable(torch.Tensor(sigma_temp)))\n",
    "    return ice_cream"
   ]
  },
  {
   "cell_type": "markdown",
   "metadata": {},
   "source": [
    "# more complex flows: Recursion, Higher order stochastic, Random Control Flow"
   ]
  },
  {
   "cell_type": "code",
   "execution_count": 13,
   "metadata": {
    "collapsed": true
   },
   "outputs": [],
   "source": [
    "def geometric(p, t= None):\n",
    "    if t is None:\n",
    "        t = 0\n",
    "    #in the line below, the format function updates the sample name based on t\n",
    "    x = pyro.sample(\"x_{}\".format(t), dist.bernoulli,p)\n",
    "    if torch.equal(x.data, torch.zeros(1)): #hmmm..annoying tensor comparisons\n",
    "        return x\n",
    "    else:\n",
    "        return x + geometric(p, t+1) # stochastic recursion. So if 3 is returned then we \"recursed\" :-) in thrice"
   ]
  },
  {
   "cell_type": "code",
   "execution_count": 14,
   "metadata": {},
   "outputs": [
    {
     "name": "stdout",
     "output_type": "stream",
     "text": [
      "Variable containing:\n",
      " 1\n",
      "[torch.FloatTensor of size 1]\n",
      "\n"
     ]
    }
   ],
   "source": [
    "print (geometric(Variable(torch.Tensor([0.5]))))"
   ]
  },
  {
   "cell_type": "code",
   "execution_count": 16,
   "metadata": {},
   "outputs": [],
   "source": [
    "def normal_product (mu,sigma):\n",
    "    z1 = pyro.sample((\"z1\"), dist.normal, mu, sigma)\n",
    "    z2 = pyro.sample((\"z2\"), dist.normal, mu, sigma)\n",
    "    y = z1*z2\n",
    "    return y\n",
    "\n",
    "def make_normal_normal():\n",
    "    mu_latent = pyro.sample('mu_latent', dist.normal, Variable(torch.zeros(1)),Variable(torch.ones(1)))\n",
    "    fn = lambda sigma: normal_product(mu_latent,sigma)\n",
    "    return fn #so at this point we return a FUNCTION that upon using with an argument sigma, give \n",
    "              # a value from normal_product(mu_latent,sigma)\n",
    "    "
   ]
  },
  {
   "cell_type": "code",
   "execution_count": 19,
   "metadata": {},
   "outputs": [
    {
     "name": "stdout",
     "output_type": "stream",
     "text": [
      "Variable containing:\n",
      " 3.0580\n",
      "[torch.FloatTensor of size 1]\n",
      "\n"
     ]
    }
   ],
   "source": [
    "print(make_normal_normal()(Variable(torch.ones(1))))"
   ]
  },
  {
   "cell_type": "code",
   "execution_count": null,
   "metadata": {
    "collapsed": true
   },
   "outputs": [],
   "source": []
  }
 ],
 "metadata": {
  "kernelspec": {
   "display_name": "Python 2",
   "language": "python",
   "name": "python2"
  },
  "language_info": {
   "codemirror_mode": {
    "name": "ipython",
    "version": 2
   },
   "file_extension": ".py",
   "mimetype": "text/x-python",
   "name": "python",
   "nbconvert_exporter": "python",
   "pygments_lexer": "ipython2",
   "version": "2.7.14"
  }
 },
 "nbformat": 4,
 "nbformat_minor": 2
}
