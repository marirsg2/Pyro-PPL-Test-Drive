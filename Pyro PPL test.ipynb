{
 "cells": [
  {
   "cell_type": "code",
   "execution_count": 1,
   "metadata": {
    "collapsed": true
   },
   "outputs": [],
   "source": [
    "import torch\n",
    "from torch.autograd import Variable\n",
    "import math\n",
    "import pyro\n",
    "import pyro.distributions as dist"
   ]
  },
  {
   "cell_type": "code",
   "execution_count": 2,
   "metadata": {},
   "outputs": [
    {
     "name": "stdout",
     "output_type": "stream",
     "text": [
      "Variable containing:\n",
      " 0.7806\n",
      "[torch.FloatTensor of size 1]\n",
      "\n"
     ]
    }
   ],
   "source": [
    "mu = Variable(torch.zeros(1))\n",
    "sigma = Variable(torch.ones(1))\n",
    "x = dist.normal(mu,sigma)\n",
    "print(x)"
   ]
  },
  {
   "cell_type": "code",
   "execution_count": 3,
   "metadata": {},
   "outputs": [
    {
     "name": "stdout",
     "output_type": "stream",
     "text": [
      "Variable containing:\n",
      "-1.2236\n",
      "[torch.FloatTensor of size 1]\n",
      "\n",
      "0.294167521999\n"
     ]
    }
   ],
   "source": [
    "log_p_x = dist.normal.log_pdf(x,mu,sigma)\n",
    "print(log_p_x)\n",
    "print(math.exp(log_p_x.data[0]))"
   ]
  },
  {
   "cell_type": "code",
   "execution_count": 5,
   "metadata": {},
   "outputs": [
    {
     "name": "stdout",
     "output_type": "stream",
     "text": [
      "Variable containing:\n",
      "-2.1759\n",
      "[torch.FloatTensor of size 1]\n",
      "\n"
     ]
    }
   ],
   "source": [
    "x = pyro.sample(\"test_sampler\", dist.normal,mu,sigma)\n",
    "print(x)\n",
    "#can also define your own arbitrary stochastic function and do\n",
    "# x = pyro.sample(\"my_sample\", fn, arg1, arg2)"
   ]
  },
  {
   "cell_type": "code",
   "execution_count": 30,
   "metadata": {},
   "outputs": [
    {
     "name": "stdout",
     "output_type": "stream",
     "text": [
      "('sunny', 67.50688171386719)\n",
      "('cloudy', 64.01900482177734)\n",
      "('sunny', 103.29197692871094)\n"
     ]
    }
   ],
   "source": [
    "def weather():\n",
    "    cloudy = pyro.sample('cloudy',dist.bernoulli,\n",
    "                        Variable(torch.Tensor([0.3])))\n",
    "    cloudy = 'cloudy' if cloudy.data[0] == 1.0 else 'sunny'\n",
    "    mean_temp = {'cloudy':[55.0] , 'sunny':[75.0]}[cloudy]\n",
    "    sigma_temp = {'cloudy':[10.0] , 'sunny':[15.0]}[cloudy]\n",
    "    temp = pyro.sample('temp', dist.normal, Variable(torch.Tensor(mean_temp)), Variable(torch.Tensor(sigma_temp)))\n",
    "    return cloudy,temp.data[0]"
   ]
  },
  {
   "cell_type": "code",
   "execution_count": 37,
   "metadata": {},
   "outputs": [
    {
     "name": "stdout",
     "output_type": "stream",
     "text": [
      "('cloudy', 52.81415939331055)\n",
      "('sunny', 58.51919937133789)\n",
      "('sunny', 101.4261703491211)\n"
     ]
    }
   ],
   "source": [
    "for _ in range(3):\n",
    "    print (weather())"
   ]
  },
  {
   "cell_type": "markdown",
   "metadata": {},
   "source": [
    "# now lets build a larger model from the simpler model"
   ]
  },
  {
   "cell_type": "code",
   "execution_count": 38,
   "metadata": {
    "collapsed": true
   },
   "outputs": [],
   "source": [
    "def ice_cream_sales():\n",
    "    cloudy,temp = weather()\n",
    "    expected_sales = [200] if cloudy == 'sunny' and temp > 80.0 else [50]\n",
    "    ice_cream = pyro.sample('ice_cream', dist.normal, \n",
    "                            Variable(toch.Tensor(expected_sales)),Variable(torch.Tensor(sigma_temp)))\n",
    "    return ice_cream"
   ]
  },
  {
   "cell_type": "markdown",
   "metadata": {},
   "source": [
    "# more complex flows: Recursion, Higher order stochastic, Random Control Flow"
   ]
  },
  {
   "cell_type": "code",
   "execution_count": 39,
   "metadata": {
    "collapsed": true
   },
   "outputs": [],
   "source": [
    "def geometric(p, t= None):\n",
    "    if t is None:\n",
    "        t = 0\n",
    "    #in the line below, the format function updates the sample name based on t\n",
    "    x = pyro.sample(\"x_{}\".format(t), dist.bernoulli,p)\n",
    "    if torch.equal(x.data, torch.zeros(1)): #hmmm..annoying tensor comparisons\n",
    "        return x\n",
    "    else:\n",
    "        return x + geometric(p, t+1) # stochastic recursion. So if 3 is returned then we \"recursed\" :-) in thrice"
   ]
  },
  {
   "cell_type": "code",
   "execution_count": 49,
   "metadata": {},
   "outputs": [
    {
     "name": "stdout",
     "output_type": "stream",
     "text": [
      "Variable containing:\n",
      " 4\n",
      "[torch.FloatTensor of size 1]\n",
      "\n"
     ]
    }
   ],
   "source": [
    "print (geometric(Variable(torch.Tensor([0.5]))))"
   ]
  },
  {
   "cell_type": "code",
   "execution_count": null,
   "metadata": {
    "collapsed": true
   },
   "outputs": [],
   "source": []
  }
 ],
 "metadata": {
  "kernelspec": {
   "display_name": "Python 2",
   "language": "python",
   "name": "python2"
  },
  "language_info": {
   "codemirror_mode": {
    "name": "ipython",
    "version": 2
   },
   "file_extension": ".py",
   "mimetype": "text/x-python",
   "name": "python",
   "nbconvert_exporter": "python",
   "pygments_lexer": "ipython2",
   "version": "2.7.14"
  }
 },
 "nbformat": 4,
 "nbformat_minor": 2
}
